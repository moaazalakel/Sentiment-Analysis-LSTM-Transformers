{
 "cells": [
  {
   "cell_type": "markdown",
   "metadata": {
    "id": "EzE79cIj1fL1"
   },
   "source": [
    "# Importing liberaries"
   ]
  },
  {
   "cell_type": "code",
   "execution_count": 1,
   "metadata": {
    "id": "Y2tdCzxo1fL4"
   },
   "outputs": [],
   "source": [
    "import zipfile\n",
    "import pandas as pd\n",
    "import nltk\n",
    "from nltk.corpus import stopwords\n",
    "import re\n",
    "from nltk.stem.wordnet import WordNetLemmatizer\n",
    "from nltk.corpus import wordnet as wn"
   ]
  },
  {
   "cell_type": "code",
   "execution_count": 2,
   "metadata": {
    "id": "GMFMD20ztBUW"
   },
   "outputs": [],
   "source": [
    "import tensorflow as tf\n",
    "from tensorflow.keras.preprocessing.text import Tokenizer\n",
    "from tensorflow.keras.preprocessing import sequence\n",
    "from tensorflow.keras.layers import LSTM, Activation, Dense, Dropout, Input, Embedding, SpatialDropout1D\n",
    "from tensorflow.keras.models import Model\n",
    "from tensorflow.keras.optimizers import RMSprop\n",
    "from tensorflow.python.client import device_lib\n",
    "from sklearn.model_selection import train_test_split\n",
    "import tensorflow_addons as tfa\n",
    "from nltk.tokenize import word_tokenize\n",
    "import matplotlib.pyplot as plt"
   ]
  },
  {
   "cell_type": "code",
   "execution_count": 3,
   "metadata": {},
   "outputs": [
    {
     "data": {
      "text/plain": [
       "[PhysicalDevice(name='/physical_device:GPU:0', device_type='GPU')]"
      ]
     },
     "execution_count": 3,
     "metadata": {},
     "output_type": "execute_result"
    }
   ],
   "source": [
    "#print(device_lib.list_local_devices())\n",
    "tf.config.list_physical_devices('GPU')"
   ]
  },
  {
   "cell_type": "code",
   "execution_count": 4,
   "metadata": {
    "colab": {
     "base_uri": "https://localhost:8080/"
    },
    "id": "IJM8OxPQ1fL4",
    "outputId": "532355f7-3597-4149-d9f3-acb1246ef39b"
   },
   "outputs": [
    {
     "name": "stderr",
     "output_type": "stream",
     "text": [
      "[nltk_data] Downloading package stopwords to\n",
      "[nltk_data]     C:\\Users\\moaaz\\AppData\\Roaming\\nltk_data...\n",
      "[nltk_data]   Package stopwords is already up-to-date!\n"
     ]
    },
    {
     "data": {
      "text/plain": [
       "True"
      ]
     },
     "execution_count": 4,
     "metadata": {},
     "output_type": "execute_result"
    }
   ],
   "source": [
    "nltk.download('stopwords')"
   ]
  },
  {
   "cell_type": "code",
   "execution_count": 5,
   "metadata": {
    "colab": {
     "base_uri": "https://localhost:8080/"
    },
    "id": "Ow4Y9WnK1fL5",
    "outputId": "a632ea9d-0dbd-47f0-a63c-b56c68f917cd"
   },
   "outputs": [
    {
     "name": "stderr",
     "output_type": "stream",
     "text": [
      "[nltk_data] Downloading package wordnet to\n",
      "[nltk_data]     C:\\Users\\moaaz\\AppData\\Roaming\\nltk_data...\n",
      "[nltk_data]   Package wordnet is already up-to-date!\n"
     ]
    },
    {
     "data": {
      "text/plain": [
       "True"
      ]
     },
     "execution_count": 5,
     "metadata": {},
     "output_type": "execute_result"
    }
   ],
   "source": [
    "nltk.download('wordnet')"
   ]
  },
  {
   "cell_type": "markdown",
   "metadata": {
    "id": "TjjudeTd1fL6"
   },
   "source": [
    "# Preprocessing the dataset"
   ]
  },
  {
   "cell_type": "code",
   "execution_count": 6,
   "metadata": {
    "id": "6A9K1jIo-7Ow"
   },
   "outputs": [],
   "source": [
    "data= pd.read_csv('../training.1600000.processed.noemoticon.csv.zip',  encoding='ISO-8859-1', names=['1','2','3','4','5', '6'], header =None )"
   ]
  },
  {
   "cell_type": "code",
   "execution_count": 7,
   "metadata": {
    "colab": {
     "base_uri": "https://localhost:8080/",
     "height": 203
    },
    "id": "clCDXM5tAseB",
    "outputId": "48f0e61d-d6db-4457-cd0f-50b81b48e7f5"
   },
   "outputs": [
    {
     "data": {
      "text/html": [
       "<div>\n",
       "<style scoped>\n",
       "    .dataframe tbody tr th:only-of-type {\n",
       "        vertical-align: middle;\n",
       "    }\n",
       "\n",
       "    .dataframe tbody tr th {\n",
       "        vertical-align: top;\n",
       "    }\n",
       "\n",
       "    .dataframe thead th {\n",
       "        text-align: right;\n",
       "    }\n",
       "</style>\n",
       "<table border=\"1\" class=\"dataframe\">\n",
       "  <thead>\n",
       "    <tr style=\"text-align: right;\">\n",
       "      <th></th>\n",
       "      <th>1</th>\n",
       "      <th>2</th>\n",
       "      <th>3</th>\n",
       "      <th>4</th>\n",
       "      <th>5</th>\n",
       "      <th>6</th>\n",
       "    </tr>\n",
       "  </thead>\n",
       "  <tbody>\n",
       "    <tr>\n",
       "      <th>0</th>\n",
       "      <td>0</td>\n",
       "      <td>1467810369</td>\n",
       "      <td>Mon Apr 06 22:19:45 PDT 2009</td>\n",
       "      <td>NO_QUERY</td>\n",
       "      <td>_TheSpecialOne_</td>\n",
       "      <td>@switchfoot http://twitpic.com/2y1zl - Awww, t...</td>\n",
       "    </tr>\n",
       "    <tr>\n",
       "      <th>1</th>\n",
       "      <td>0</td>\n",
       "      <td>1467810672</td>\n",
       "      <td>Mon Apr 06 22:19:49 PDT 2009</td>\n",
       "      <td>NO_QUERY</td>\n",
       "      <td>scotthamilton</td>\n",
       "      <td>is upset that he can't update his Facebook by ...</td>\n",
       "    </tr>\n",
       "    <tr>\n",
       "      <th>2</th>\n",
       "      <td>0</td>\n",
       "      <td>1467810917</td>\n",
       "      <td>Mon Apr 06 22:19:53 PDT 2009</td>\n",
       "      <td>NO_QUERY</td>\n",
       "      <td>mattycus</td>\n",
       "      <td>@Kenichan I dived many times for the ball. Man...</td>\n",
       "    </tr>\n",
       "    <tr>\n",
       "      <th>3</th>\n",
       "      <td>0</td>\n",
       "      <td>1467811184</td>\n",
       "      <td>Mon Apr 06 22:19:57 PDT 2009</td>\n",
       "      <td>NO_QUERY</td>\n",
       "      <td>ElleCTF</td>\n",
       "      <td>my whole body feels itchy and like its on fire</td>\n",
       "    </tr>\n",
       "    <tr>\n",
       "      <th>4</th>\n",
       "      <td>0</td>\n",
       "      <td>1467811193</td>\n",
       "      <td>Mon Apr 06 22:19:57 PDT 2009</td>\n",
       "      <td>NO_QUERY</td>\n",
       "      <td>Karoli</td>\n",
       "      <td>@nationwideclass no, it's not behaving at all....</td>\n",
       "    </tr>\n",
       "  </tbody>\n",
       "</table>\n",
       "</div>"
      ],
      "text/plain": [
       "   1           2                             3         4                5  \\\n",
       "0  0  1467810369  Mon Apr 06 22:19:45 PDT 2009  NO_QUERY  _TheSpecialOne_   \n",
       "1  0  1467810672  Mon Apr 06 22:19:49 PDT 2009  NO_QUERY    scotthamilton   \n",
       "2  0  1467810917  Mon Apr 06 22:19:53 PDT 2009  NO_QUERY         mattycus   \n",
       "3  0  1467811184  Mon Apr 06 22:19:57 PDT 2009  NO_QUERY          ElleCTF   \n",
       "4  0  1467811193  Mon Apr 06 22:19:57 PDT 2009  NO_QUERY           Karoli   \n",
       "\n",
       "                                                   6  \n",
       "0  @switchfoot http://twitpic.com/2y1zl - Awww, t...  \n",
       "1  is upset that he can't update his Facebook by ...  \n",
       "2  @Kenichan I dived many times for the ball. Man...  \n",
       "3    my whole body feels itchy and like its on fire   \n",
       "4  @nationwideclass no, it's not behaving at all....  "
      ]
     },
     "execution_count": 7,
     "metadata": {},
     "output_type": "execute_result"
    }
   ],
   "source": [
    "data.head()"
   ]
  },
  {
   "cell_type": "code",
   "execution_count": 8,
   "metadata": {
    "colab": {
     "base_uri": "https://localhost:8080/"
    },
    "id": "mk1bed1x1fL7",
    "outputId": "4669f698-a9bd-498f-cb23-923dced08807"
   },
   "outputs": [
    {
     "name": "stdout",
     "output_type": "stream",
     "text": [
      "The number of records in the dataset is 1600000 record.\n"
     ]
    }
   ],
   "source": [
    "#number of records in the dataset\n",
    "print('The number of records in the dataset is '+ str(len(data))+ ' record.') "
   ]
  },
  {
   "cell_type": "code",
   "execution_count": 9,
   "metadata": {
    "colab": {
     "base_uri": "https://localhost:8080/"
    },
    "id": "Ay4R1q0A1fL7",
    "outputId": "2741de9d-54c1-4ea1-eff5-f2521d9b1622",
    "scrolled": true
   },
   "outputs": [
    {
     "data": {
      "text/plain": [
       "0"
      ]
     },
     "execution_count": 9,
     "metadata": {},
     "output_type": "execute_result"
    }
   ],
   "source": [
    "#checking for null values\n",
    "data.isnull().sum().sum() "
   ]
  },
  {
   "cell_type": "code",
   "execution_count": 10,
   "metadata": {
    "id": "SQOUgcOJ1fL8"
   },
   "outputs": [],
   "source": [
    "#change the target and tweets columns' names \n",
    "data = data.rename(columns = {'1': 'targ', '6': 'texts'})"
   ]
  },
  {
   "cell_type": "code",
   "execution_count": 11,
   "metadata": {
    "colab": {
     "base_uri": "https://localhost:8080/"
    },
    "id": "BZ6WptxyE1Nk",
    "outputId": "cab6f936-9ae6-4eeb-e974-0325326a324b"
   },
   "outputs": [
    {
     "name": "stderr",
     "output_type": "stream",
     "text": [
      "C:\\Users\\moaaz\\AppData\\Local\\Temp/ipykernel_6064/3684360877.py:1: SettingWithCopyWarning: \n",
      "A value is trying to be set on a copy of a slice from a DataFrame\n",
      "\n",
      "See the caveats in the documentation: https://pandas.pydata.org/pandas-docs/stable/user_guide/indexing.html#returning-a-view-versus-a-copy\n",
      "  data['targ'][data['targ']==4]=1\n"
     ]
    }
   ],
   "source": [
    "data['targ'][data['targ']==4]=1"
   ]
  },
  {
   "cell_type": "code",
   "execution_count": 12,
   "metadata": {
    "id": "fcUD-wF2DZhL"
   },
   "outputs": [],
   "source": [
    "data_pos = data[data['targ'] == 1]\n",
    "data_neg = data[data['targ'] == 0]"
   ]
  },
  {
   "cell_type": "code",
   "execution_count": 13,
   "metadata": {},
   "outputs": [
    {
     "name": "stdout",
     "output_type": "stream",
     "text": [
      "800000\n",
      "800000\n"
     ]
    }
   ],
   "source": [
    "print(len(data_pos))\n",
    "print(len(data_neg))"
   ]
  },
  {
   "cell_type": "code",
   "execution_count": 14,
   "metadata": {
    "id": "s65ftUboDedE"
   },
   "outputs": [],
   "source": [
    "#data_pos = data_pos.iloc[:int(50000)]\n",
    "#data_neg = data_neg.iloc[:int(50000)]"
   ]
  },
  {
   "cell_type": "code",
   "execution_count": 15,
   "metadata": {
    "id": "xTvuA1ySDhWY"
   },
   "outputs": [],
   "source": [
    "data = pd.concat([data_pos, data_neg])"
   ]
  },
  {
   "cell_type": "code",
   "execution_count": 16,
   "metadata": {
    "colab": {
     "base_uri": "https://localhost:8080/",
     "height": 417
    },
    "id": "hiZK25gAEY6Y",
    "outputId": "31ad1017-ee36-45a5-ebcf-09f2070e4eba"
   },
   "outputs": [
    {
     "data": {
      "text/html": [
       "<div>\n",
       "<style scoped>\n",
       "    .dataframe tbody tr th:only-of-type {\n",
       "        vertical-align: middle;\n",
       "    }\n",
       "\n",
       "    .dataframe tbody tr th {\n",
       "        vertical-align: top;\n",
       "    }\n",
       "\n",
       "    .dataframe thead th {\n",
       "        text-align: right;\n",
       "    }\n",
       "</style>\n",
       "<table border=\"1\" class=\"dataframe\">\n",
       "  <thead>\n",
       "    <tr style=\"text-align: right;\">\n",
       "      <th></th>\n",
       "      <th>targ</th>\n",
       "      <th>2</th>\n",
       "      <th>3</th>\n",
       "      <th>4</th>\n",
       "      <th>5</th>\n",
       "      <th>texts</th>\n",
       "    </tr>\n",
       "  </thead>\n",
       "  <tbody>\n",
       "    <tr>\n",
       "      <th>800000</th>\n",
       "      <td>1</td>\n",
       "      <td>1467822272</td>\n",
       "      <td>Mon Apr 06 22:22:45 PDT 2009</td>\n",
       "      <td>NO_QUERY</td>\n",
       "      <td>ersle</td>\n",
       "      <td>I LOVE @Health4UandPets u guys r the best!!</td>\n",
       "    </tr>\n",
       "    <tr>\n",
       "      <th>800001</th>\n",
       "      <td>1</td>\n",
       "      <td>1467822273</td>\n",
       "      <td>Mon Apr 06 22:22:45 PDT 2009</td>\n",
       "      <td>NO_QUERY</td>\n",
       "      <td>becca210</td>\n",
       "      <td>im meeting up with one of my besties tonight! ...</td>\n",
       "    </tr>\n",
       "    <tr>\n",
       "      <th>800002</th>\n",
       "      <td>1</td>\n",
       "      <td>1467822283</td>\n",
       "      <td>Mon Apr 06 22:22:46 PDT 2009</td>\n",
       "      <td>NO_QUERY</td>\n",
       "      <td>Wingman29</td>\n",
       "      <td>@DaRealSunisaKim Thanks for the Twitter add, S...</td>\n",
       "    </tr>\n",
       "    <tr>\n",
       "      <th>800003</th>\n",
       "      <td>1</td>\n",
       "      <td>1467822287</td>\n",
       "      <td>Mon Apr 06 22:22:46 PDT 2009</td>\n",
       "      <td>NO_QUERY</td>\n",
       "      <td>katarinka</td>\n",
       "      <td>Being sick can be really cheap when it hurts t...</td>\n",
       "    </tr>\n",
       "    <tr>\n",
       "      <th>800004</th>\n",
       "      <td>1</td>\n",
       "      <td>1467822293</td>\n",
       "      <td>Mon Apr 06 22:22:46 PDT 2009</td>\n",
       "      <td>NO_QUERY</td>\n",
       "      <td>_EmilyYoung</td>\n",
       "      <td>@LovesBrooklyn2 he has that effect on everyone</td>\n",
       "    </tr>\n",
       "    <tr>\n",
       "      <th>...</th>\n",
       "      <td>...</td>\n",
       "      <td>...</td>\n",
       "      <td>...</td>\n",
       "      <td>...</td>\n",
       "      <td>...</td>\n",
       "      <td>...</td>\n",
       "    </tr>\n",
       "    <tr>\n",
       "      <th>799995</th>\n",
       "      <td>0</td>\n",
       "      <td>2329205009</td>\n",
       "      <td>Thu Jun 25 10:28:28 PDT 2009</td>\n",
       "      <td>NO_QUERY</td>\n",
       "      <td>dandykim</td>\n",
       "      <td>Sick  Spending my day laying in bed listening ...</td>\n",
       "    </tr>\n",
       "    <tr>\n",
       "      <th>799996</th>\n",
       "      <td>0</td>\n",
       "      <td>2329205038</td>\n",
       "      <td>Thu Jun 25 10:28:28 PDT 2009</td>\n",
       "      <td>NO_QUERY</td>\n",
       "      <td>bigenya</td>\n",
       "      <td>Gmail is down?</td>\n",
       "    </tr>\n",
       "    <tr>\n",
       "      <th>799997</th>\n",
       "      <td>0</td>\n",
       "      <td>2329205473</td>\n",
       "      <td>Thu Jun 25 10:28:30 PDT 2009</td>\n",
       "      <td>NO_QUERY</td>\n",
       "      <td>LeeLHoke</td>\n",
       "      <td>rest in peace Farrah! So sad</td>\n",
       "    </tr>\n",
       "    <tr>\n",
       "      <th>799998</th>\n",
       "      <td>0</td>\n",
       "      <td>2329205574</td>\n",
       "      <td>Thu Jun 25 10:28:30 PDT 2009</td>\n",
       "      <td>NO_QUERY</td>\n",
       "      <td>davidlmulder</td>\n",
       "      <td>@Eric_Urbane Sounds like a rival is flagging y...</td>\n",
       "    </tr>\n",
       "    <tr>\n",
       "      <th>799999</th>\n",
       "      <td>0</td>\n",
       "      <td>2329205794</td>\n",
       "      <td>Thu Jun 25 10:28:31 PDT 2009</td>\n",
       "      <td>NO_QUERY</td>\n",
       "      <td>tpchandler</td>\n",
       "      <td>has to resit exams over summer...  wishes he w...</td>\n",
       "    </tr>\n",
       "  </tbody>\n",
       "</table>\n",
       "<p>1600000 rows × 6 columns</p>\n",
       "</div>"
      ],
      "text/plain": [
       "        targ           2                             3         4  \\\n",
       "800000     1  1467822272  Mon Apr 06 22:22:45 PDT 2009  NO_QUERY   \n",
       "800001     1  1467822273  Mon Apr 06 22:22:45 PDT 2009  NO_QUERY   \n",
       "800002     1  1467822283  Mon Apr 06 22:22:46 PDT 2009  NO_QUERY   \n",
       "800003     1  1467822287  Mon Apr 06 22:22:46 PDT 2009  NO_QUERY   \n",
       "800004     1  1467822293  Mon Apr 06 22:22:46 PDT 2009  NO_QUERY   \n",
       "...      ...         ...                           ...       ...   \n",
       "799995     0  2329205009  Thu Jun 25 10:28:28 PDT 2009  NO_QUERY   \n",
       "799996     0  2329205038  Thu Jun 25 10:28:28 PDT 2009  NO_QUERY   \n",
       "799997     0  2329205473  Thu Jun 25 10:28:30 PDT 2009  NO_QUERY   \n",
       "799998     0  2329205574  Thu Jun 25 10:28:30 PDT 2009  NO_QUERY   \n",
       "799999     0  2329205794  Thu Jun 25 10:28:31 PDT 2009  NO_QUERY   \n",
       "\n",
       "                   5                                              texts  \n",
       "800000         ersle       I LOVE @Health4UandPets u guys r the best!!   \n",
       "800001      becca210  im meeting up with one of my besties tonight! ...  \n",
       "800002     Wingman29  @DaRealSunisaKim Thanks for the Twitter add, S...  \n",
       "800003     katarinka  Being sick can be really cheap when it hurts t...  \n",
       "800004   _EmilyYoung    @LovesBrooklyn2 he has that effect on everyone   \n",
       "...              ...                                                ...  \n",
       "799995      dandykim  Sick  Spending my day laying in bed listening ...  \n",
       "799996       bigenya                                    Gmail is down?   \n",
       "799997      LeeLHoke                      rest in peace Farrah! So sad   \n",
       "799998  davidlmulder  @Eric_Urbane Sounds like a rival is flagging y...  \n",
       "799999    tpchandler  has to resit exams over summer...  wishes he w...  \n",
       "\n",
       "[1600000 rows x 6 columns]"
      ]
     },
     "execution_count": 16,
     "metadata": {},
     "output_type": "execute_result"
    }
   ],
   "source": [
    "data"
   ]
  },
  {
   "cell_type": "code",
   "execution_count": 17,
   "metadata": {
    "colab": {
     "base_uri": "https://localhost:8080/",
     "height": 203
    },
    "id": "FvwPeAYc1fL8",
    "outputId": "3c8e8383-42cd-4ad1-8461-a76e94ed3e9f"
   },
   "outputs": [
    {
     "data": {
      "text/html": [
       "<div>\n",
       "<style scoped>\n",
       "    .dataframe tbody tr th:only-of-type {\n",
       "        vertical-align: middle;\n",
       "    }\n",
       "\n",
       "    .dataframe tbody tr th {\n",
       "        vertical-align: top;\n",
       "    }\n",
       "\n",
       "    .dataframe thead th {\n",
       "        text-align: right;\n",
       "    }\n",
       "</style>\n",
       "<table border=\"1\" class=\"dataframe\">\n",
       "  <thead>\n",
       "    <tr style=\"text-align: right;\">\n",
       "      <th></th>\n",
       "      <th>targ</th>\n",
       "      <th>texts</th>\n",
       "    </tr>\n",
       "  </thead>\n",
       "  <tbody>\n",
       "    <tr>\n",
       "      <th>800000</th>\n",
       "      <td>1</td>\n",
       "      <td>I LOVE @Health4UandPets u guys r the best!!</td>\n",
       "    </tr>\n",
       "    <tr>\n",
       "      <th>800001</th>\n",
       "      <td>1</td>\n",
       "      <td>im meeting up with one of my besties tonight! ...</td>\n",
       "    </tr>\n",
       "    <tr>\n",
       "      <th>800002</th>\n",
       "      <td>1</td>\n",
       "      <td>@DaRealSunisaKim Thanks for the Twitter add, S...</td>\n",
       "    </tr>\n",
       "    <tr>\n",
       "      <th>800003</th>\n",
       "      <td>1</td>\n",
       "      <td>Being sick can be really cheap when it hurts t...</td>\n",
       "    </tr>\n",
       "    <tr>\n",
       "      <th>800004</th>\n",
       "      <td>1</td>\n",
       "      <td>@LovesBrooklyn2 he has that effect on everyone</td>\n",
       "    </tr>\n",
       "  </tbody>\n",
       "</table>\n",
       "</div>"
      ],
      "text/plain": [
       "        targ                                              texts\n",
       "800000     1       I LOVE @Health4UandPets u guys r the best!! \n",
       "800001     1  im meeting up with one of my besties tonight! ...\n",
       "800002     1  @DaRealSunisaKim Thanks for the Twitter add, S...\n",
       "800003     1  Being sick can be really cheap when it hurts t...\n",
       "800004     1    @LovesBrooklyn2 he has that effect on everyone "
      ]
     },
     "execution_count": 17,
     "metadata": {},
     "output_type": "execute_result"
    }
   ],
   "source": [
    "data_nw = data.drop(columns = ['2','3','4','5'])\n",
    "\n",
    "data_nw.head()"
   ]
  },
  {
   "cell_type": "markdown",
   "metadata": {
    "id": "DTKYDaw01fL9"
   },
   "source": [
    "# Text preprocessing"
   ]
  },
  {
   "cell_type": "code",
   "execution_count": 18,
   "metadata": {
    "colab": {
     "base_uri": "https://localhost:8080/"
    },
    "id": "YGNwwcZE1fL9",
    "outputId": "ed712151-f7a7-4bf0-80a8-b8e76ab9e143"
   },
   "outputs": [
    {
     "data": {
      "text/plain": [
       "179"
      ]
     },
     "execution_count": 18,
     "metadata": {},
     "output_type": "execute_result"
    }
   ],
   "source": [
    "#stop words list \n",
    "list_old_stp_wrds = stopwords.words('english')\n",
    "len(list_old_stp_wrds)"
   ]
  },
  {
   "cell_type": "code",
   "execution_count": 19,
   "metadata": {
    "colab": {
     "base_uri": "https://localhost:8080/"
    },
    "id": "2hDRjg1X1fL9",
    "outputId": "32bf77f3-919d-4516-a129-057ae7ae7381"
   },
   "outputs": [
    {
     "name": "stdout",
     "output_type": "stream",
     "text": [
      "don't\n",
      "aren't\n",
      "couldn\n",
      "couldn't\n",
      "didn\n",
      "didn't\n",
      "doesn\n",
      "doesn't\n",
      "hadn\n",
      "hadn't\n",
      "hasn\n",
      "hasn't\n",
      "haven't\n",
      "isn\n",
      "isn't\n",
      "mightn't\n",
      "mustn't\n",
      "needn\n",
      "needn't\n",
      "shan't\n",
      "shouldn\n",
      "shouldn't\n",
      "wasn\n",
      "wasn't\n",
      "weren't\n",
      "won't\n",
      "wouldn\n",
      "wouldn't\n"
     ]
    },
    {
     "data": {
      "text/plain": [
       "151"
      ]
     },
     "execution_count": 19,
     "metadata": {},
     "output_type": "execute_result"
    }
   ],
   "source": [
    "list_stp_wrds =[]\n",
    "for stpwrd in list_old_stp_wrds:\n",
    "    \n",
    "    if stpwrd.endswith(\"n't\") or stpwrd.endswith(\"dn\") or stpwrd.endswith(\"sn\"):\n",
    "        print(stpwrd)\n",
    "    else:\n",
    "        list_stp_wrds.append(stpwrd)\n",
    "        \n",
    "len(list_stp_wrds)    #updated  "
   ]
  },
  {
   "cell_type": "code",
   "execution_count": 20,
   "metadata": {
    "colab": {
     "base_uri": "https://localhost:8080/"
    },
    "id": "hI8-9u4__JxI",
    "outputId": "f175b813-088c-4d1d-b83c-f9bc27beb57a"
   },
   "outputs": [
    {
     "name": "stderr",
     "output_type": "stream",
     "text": [
      "[nltk_data] Downloading package punkt to\n",
      "[nltk_data]     C:\\Users\\moaaz\\AppData\\Roaming\\nltk_data...\n",
      "[nltk_data]   Package punkt is already up-to-date!\n"
     ]
    },
    {
     "data": {
      "text/plain": [
       "True"
      ]
     },
     "execution_count": 20,
     "metadata": {},
     "output_type": "execute_result"
    }
   ],
   "source": [
    "nltk.download('punkt')"
   ]
  },
  {
   "cell_type": "code",
   "execution_count": 21,
   "metadata": {
    "id": "H3o2WSRU1fL-"
   },
   "outputs": [],
   "source": [
    "def Preprocessing(tw):\n",
    "    \n",
    "    emoji = {':)': 'smile', ':-)': 'smile', ';d': 'wink', ':-E': 'vampire', ':(': 'sad', \n",
    "              ':-(': 'sad', ':-<': 'sad', ':P': 'raspberry', ':O': 'surprised',\n",
    "              ':-@': 'shocked', ':@': 'shocked',':-$': 'confused', ':\\\\': 'annoyed', \n",
    "              ':#': 'mute', ':X': 'mute', ':^)': 'smile', ':-&': 'confused', '$_$': 'greedy',\n",
    "              '@@': 'eyeroll', ':-!': 'confused', ':-D': 'smile', ':-0': 'yell', 'O.o': 'confused',\n",
    "              '<(-_-)>': 'robot', 'd[-_-]b': 'dj', \":'-)\": 'sadsmile', ';)': 'wink', \n",
    "              ';-)': 'wink', 'O:-)': 'angel','O*-)': 'angel','(:-D': 'gossip', '=^.^=': 'cat'}\n",
    "\n",
    "    links = r\"((http://)[^ ]*|(https://)[^ ]*|( www\\.)[^ ]*)\"\n",
    "    mentions = r\"@[^\\s]+\"\n",
    "    nonalpha = '[^a-zA-Z0-9]'\n",
    "    \n",
    "    \n",
    "    \n",
    "    tw = re.sub(links,'',tw)\n",
    "    \n",
    "    tw = re.sub(mentions, '', tw) \n",
    "    \n",
    "    \n",
    "    \n",
    "    for em in emoji.keys():\n",
    "        tw = tw.replace(em, emoji[em])   \n",
    "    \n",
    "    tw = re.sub(nonalpha, \" \", tw)     \n",
    "    \n",
    "    tokens = word_tokenize(tw)   \n",
    "    lemm = '';\n",
    "    \n",
    "    for wrd in tokens:\n",
    "        if wrd not in list_stp_wrds:  \n",
    "            if len(wrd) > 1:\n",
    "                obj = WordNetLemmatizer()\n",
    "                  \n",
    "\n",
    "                lem_wrd = obj.lemmatize(wrd)  \n",
    "                lemm += (lem_wrd + ' ')    \n",
    "    \n",
    "    return lemm.strip()"
   ]
  },
  {
   "cell_type": "code",
   "execution_count": 22,
   "metadata": {
    "colab": {
     "base_uri": "https://localhost:8080/"
    },
    "id": "Yosw8p-e1fL-",
    "outputId": "94e8db03-9b5c-4803-9309-becc64f9e0ee",
    "scrolled": true
   },
   "outputs": [
    {
     "data": {
      "text/plain": [
       "800000                                        LOVE guy best\n",
       "800001    im meeting one besties tonight Cant wait GIRL ...\n",
       "800002    Thanks Twitter add Sunisa got meet HIN show DC...\n",
       "800003    Being sick really cheap hurt much eat real foo...\n",
       "800004                                      effect everyone\n",
       "                                ...                        \n",
       "799995               Sick Spending day laying bed listening\n",
       "799996                                                Gmail\n",
       "799997                             rest peace Farrah So sad\n",
       "799998        Sounds like rival flagging ad Not much though\n",
       "799999    resit exam summer wish worked harder first yea...\n",
       "Name: texts, Length: 1600000, dtype: object"
      ]
     },
     "execution_count": 22,
     "metadata": {},
     "output_type": "execute_result"
    }
   ],
   "source": [
    "data_nw['texts'] = data_nw['texts'].apply(Preprocessing)\n",
    "data_nw['texts']"
   ]
  },
  {
   "cell_type": "code",
   "execution_count": 23,
   "metadata": {
    "id": "DxjLqbveAbVH"
   },
   "outputs": [],
   "source": [
    "X=data.texts\n",
    "y=data.targ"
   ]
  },
  {
   "cell_type": "markdown",
   "metadata": {
    "id": "VejHqF1VBfU9"
   },
   "source": [
    "Preparing the input features for training \n",
    "\n",
    "We converting the text words into arrays form.\n",
    "Maximum 500 features/words selected for training. These 500 words will be selected on the importance that will distinguish between the positive tweets and negative tweets."
   ]
  },
  {
   "cell_type": "code",
   "execution_count": 24,
   "metadata": {
    "id": "RLMfRxntA0Gm"
   },
   "outputs": [],
   "source": [
    "max_len = 120\n",
    "num_of_words = 9999\n",
    "tok = Tokenizer(num_words= num_of_words)\n",
    "tok.fit_on_texts(X)\n",
    "sequences = tok.texts_to_sequences(X)\n",
    "sequences_matrix = sequence.pad_sequences(sequences, maxlen = max_len)"
   ]
  },
  {
   "cell_type": "code",
   "execution_count": 25,
   "metadata": {
    "colab": {
     "base_uri": "https://localhost:8080/"
    },
    "id": "sAPDrIIF_6Ql",
    "outputId": "93f726ff-5026-4e90-98c2-0be65d00b876"
   },
   "outputs": [
    {
     "data": {
      "text/plain": [
       "(1600000, 120)"
      ]
     },
     "execution_count": 25,
     "metadata": {},
     "output_type": "execute_result"
    }
   ],
   "source": [
    "sequences_matrix.shape"
   ]
  },
  {
   "cell_type": "code",
   "execution_count": 26,
   "metadata": {},
   "outputs": [],
   "source": [
    "#max_list = [max(s) for s in sequences]\n",
    "#max_word = max(max_list)\n",
    "#print(max_word)"
   ]
  },
  {
   "cell_type": "markdown",
   "metadata": {
    "id": "qo5RcHPBBpVA"
   },
   "source": [
    "total 1600000 tweets and the number words/features are 118"
   ]
  },
  {
   "cell_type": "markdown",
   "metadata": {
    "id": "-V8iwFSxB44z"
   },
   "source": [
    "Separating the 70% data for training data and 30% for testing data"
   ]
  },
  {
   "cell_type": "code",
   "execution_count": 27,
   "metadata": {
    "id": "5ljZ8KPfBqRi"
   },
   "outputs": [],
   "source": [
    "X_train, X_test, Y_train, Y_test = train_test_split(sequences_matrix, y, test_size=0.3, random_state=2)"
   ]
  },
  {
   "cell_type": "code",
   "execution_count": 28,
   "metadata": {
    "id": "WsU62WcfB6HT"
   },
   "outputs": [],
   "source": [
    "def tensorflow_based_model(): #Defined tensorflow_based_model function for training tenforflow based model\n",
    "    inputs = Input(shape=(max_len, ))#step1\n",
    "    layer = Embedding(num_of_words+1 ,64 ,input_length=max_len)(inputs) #step2\n",
    "    \n",
    "    layer = SpatialDropout1D(0.4)(layer) # step6\n",
    "    \n",
    "    layer = LSTM(128)(layer) #step3\n",
    "    \n",
    "    layer = Dropout(0.2, name=\"LSTM_Dropout\")(layer)\n",
    "    \n",
    "    #layer = Dense(60,name='FC1')(layer) #step4\n",
    "    \n",
    "    layer = Dense(10,name='FC2')(layer) #step4\n",
    "    #layer = Activation('relu')(layer) # step5\n",
    "    \n",
    "    layer = Dense(1,name='out_layer', activation=\"sigmoid\")(layer) #step4 again but this time its giving only one output as because we need to classify the tweet as positive or negative\n",
    "    #layer = Activation('sigmoid')(layer) #step5 but this time activation function is sigmoid for only one output.\n",
    "    \n",
    "    model = Model(inputs=inputs,outputs=layer) #here we are getting the final output value in the model for classification\n",
    "    return model #function returning the value when we call it"
   ]
  },
  {
   "cell_type": "code",
   "execution_count": 29,
   "metadata": {
    "id": "fgxbIvLJCC83"
   },
   "outputs": [],
   "source": [
    "model = tensorflow_based_model() # here we are calling the function of created model\n",
    "model.compile(loss='binary_crossentropy',optimizer= \"Adam\" ,metrics=['accuracy' , tf.keras.metrics.Precision(),\n",
    "                              tf.keras.metrics.Recall() , tfa.metrics.F1Score(num_classes=1,\n",
    "                                                  average='macro',\n",
    "                                                  threshold=0.5)])"
   ]
  },
  {
   "cell_type": "code",
   "execution_count": 30,
   "metadata": {},
   "outputs": [],
   "source": [
    "X_train = tf.convert_to_tensor(X_train, dtype=tf.int64)\n",
    "Y_train = tf.convert_to_tensor(Y_train, dtype=tf.int64)\n",
    "\n",
    "X_test = tf.convert_to_tensor(X_test, dtype=tf.int64)\n",
    "Y_test = tf.convert_to_tensor(Y_test, dtype=tf.int64)"
   ]
  },
  {
   "cell_type": "code",
   "execution_count": 31,
   "metadata": {},
   "outputs": [
    {
     "name": "stdout",
     "output_type": "stream",
     "text": [
      "Model: \"model\"\n",
      "_________________________________________________________________\n",
      " Layer (type)                Output Shape              Param #   \n",
      "=================================================================\n",
      " input_1 (InputLayer)        [(None, 120)]             0         \n",
      "                                                                 \n",
      " embedding (Embedding)       (None, 120, 64)           640000    \n",
      "                                                                 \n",
      " spatial_dropout1d (SpatialD  (None, 120, 64)          0         \n",
      " ropout1D)                                                       \n",
      "                                                                 \n",
      " lstm (LSTM)                 (None, 128)               98816     \n",
      "                                                                 \n",
      " LSTM_Dropout (Dropout)      (None, 128)               0         \n",
      "                                                                 \n",
      " FC2 (Dense)                 (None, 10)                1290      \n",
      "                                                                 \n",
      " out_layer (Dense)           (None, 1)                 11        \n",
      "                                                                 \n",
      "=================================================================\n",
      "Total params: 740,117\n",
      "Trainable params: 740,117\n",
      "Non-trainable params: 0\n",
      "_________________________________________________________________\n",
      "None\n"
     ]
    }
   ],
   "source": [
    "print(model.summary())"
   ]
  },
  {
   "cell_type": "code",
   "execution_count": 32,
   "metadata": {},
   "outputs": [],
   "source": [
    "import os\n",
    "from tensorflow.keras import callbacks\n",
    "\n",
    "check_path = \"training_1cp.ckpt\"\n",
    "check_dir = os.path.dirname(check_path)\n",
    "back_path = \"backup\"\n",
    "back_dir = os.path.dirname(back_path)\n",
    "ten_path = \"Tensor\"\n",
    "ten_dir = os.path.dirname(ten_path)\n",
    "\n",
    "cp_callbacks = [callbacks.EarlyStopping(monitor=\"val_accuracy\", patience=4, verbose=1, restore_best_weights=True),\n",
    "               callbacks.ModelCheckpoint(monitor=\"val_accuracy\", filepath=check_path, save_best_only=True, save_weights_only=True)]"
   ]
  },
  {
   "cell_type": "code",
   "execution_count": 33,
   "metadata": {
    "colab": {
     "base_uri": "https://localhost:8080/"
    },
    "id": "n6PK8DEyCTht",
    "outputId": "1f410063-279c-42ac-bcfe-5c030b28a607"
   },
   "outputs": [
    {
     "name": "stdout",
     "output_type": "stream",
     "text": [
      "Epoch 1/20\n",
      "5974/5974 [==============================] - 115s 18ms/step - loss: 0.4366 - accuracy: 0.7975 - precision: 0.8025 - recall: 0.7888 - f1_score: 0.7956 - val_loss: 0.4051 - val_accuracy: 0.8146 - val_precision: 0.8111 - val_recall: 0.8224 - val_f1_score: 0.8167\n",
      "Epoch 2/20\n",
      "5974/5974 [==============================] - 111s 19ms/step - loss: 0.4007 - accuracy: 0.8178 - precision: 0.8209 - recall: 0.8128 - f1_score: 0.8168 - val_loss: 0.3973 - val_accuracy: 0.8193 - val_precision: 0.8098 - val_recall: 0.8369 - val_f1_score: 0.8231\n",
      "Epoch 3/20\n",
      "5974/5974 [==============================] - 118s 20ms/step - loss: 0.3883 - accuracy: 0.8244 - precision: 0.8272 - recall: 0.8198 - f1_score: 0.8235 - val_loss: 0.3913 - val_accuracy: 0.8227 - val_precision: 0.8263 - val_recall: 0.8194 - val_f1_score: 0.8228\n",
      "Epoch 4/20\n",
      "5974/5974 [==============================] - 114s 19ms/step - loss: 0.3790 - accuracy: 0.8292 - precision: 0.8319 - recall: 0.8250 - f1_score: 0.8284 - val_loss: 0.3901 - val_accuracy: 0.8235 - val_precision: 0.8253 - val_recall: 0.8226 - val_f1_score: 0.8240\n",
      "Epoch 5/20\n",
      "5974/5974 [==============================] - 114s 19ms/step - loss: 0.3718 - accuracy: 0.8332 - precision: 0.8359 - recall: 0.8289 - f1_score: 0.8324 - val_loss: 0.3881 - val_accuracy: 0.8248 - val_precision: 0.8247 - val_recall: 0.8270 - val_f1_score: 0.8259\n",
      "Epoch 6/20\n",
      "5974/5974 [==============================] - 115s 19ms/step - loss: 0.3653 - accuracy: 0.8366 - precision: 0.8391 - recall: 0.8328 - f1_score: 0.8359 - val_loss: 0.3885 - val_accuracy: 0.8259 - val_precision: 0.8367 - val_recall: 0.8117 - val_f1_score: 0.8240\n",
      "Epoch 7/20\n",
      "5974/5974 [==============================] - 115s 19ms/step - loss: 0.3597 - accuracy: 0.8394 - precision: 0.8416 - recall: 0.8362 - f1_score: 0.8389 - val_loss: 0.3899 - val_accuracy: 0.8260 - val_precision: 0.8298 - val_recall: 0.8221 - val_f1_score: 0.8260\n",
      "Epoch 8/20\n",
      "5974/5974 [==============================] - 115s 19ms/step - loss: 0.3548 - accuracy: 0.8418 - precision: 0.8440 - recall: 0.8384 - f1_score: 0.8412 - val_loss: 0.3897 - val_accuracy: 0.8263 - val_precision: 0.8284 - val_recall: 0.8252 - val_f1_score: 0.8268\n",
      "Epoch 9/20\n",
      "5974/5974 [==============================] - 115s 19ms/step - loss: 0.3503 - accuracy: 0.8445 - precision: 0.8467 - recall: 0.8411 - f1_score: 0.8439 - val_loss: 0.3913 - val_accuracy: 0.8263 - val_precision: 0.8293 - val_recall: 0.8235 - val_f1_score: 0.8264\n",
      "Epoch 10/20\n",
      "5974/5974 [==============================] - 115s 19ms/step - loss: 0.3464 - accuracy: 0.8465 - precision: 0.8485 - recall: 0.8434 - f1_score: 0.8460 - val_loss: 0.3952 - val_accuracy: 0.8261 - val_precision: 0.8262 - val_recall: 0.8279 - val_f1_score: 0.8270\n",
      "Epoch 11/20\n",
      "5974/5974 [==============================] - 115s 19ms/step - loss: 0.3428 - accuracy: 0.8482 - precision: 0.8504 - recall: 0.8449 - f1_score: 0.8476 - val_loss: 0.3962 - val_accuracy: 0.8263 - val_precision: 0.8367 - val_recall: 0.8128 - val_f1_score: 0.8246\n",
      "Epoch 12/20\n",
      "5974/5974 [==============================] - 116s 19ms/step - loss: 0.3396 - accuracy: 0.8499 - precision: 0.8521 - recall: 0.8466 - f1_score: 0.8493 - val_loss: 0.3940 - val_accuracy: 0.8265 - val_precision: 0.8271 - val_recall: 0.8275 - val_f1_score: 0.8273\n",
      "Epoch 13/20\n",
      "5974/5974 [==============================] - 116s 19ms/step - loss: 0.3372 - accuracy: 0.8506 - precision: 0.8527 - recall: 0.8475 - f1_score: 0.8501 - val_loss: 0.3982 - val_accuracy: 0.8268 - val_precision: 0.8318 - val_recall: 0.8211 - val_f1_score: 0.8264\n",
      "Epoch 14/20\n",
      "5974/5974 [==============================] - 116s 19ms/step - loss: 0.3340 - accuracy: 0.8524 - precision: 0.8545 - recall: 0.8492 - f1_score: 0.8519 - val_loss: 0.4042 - val_accuracy: 0.8264 - val_precision: 0.8324 - val_recall: 0.8193 - val_f1_score: 0.8258\n",
      "Epoch 15/20\n",
      "5974/5974 [==============================] - 116s 19ms/step - loss: 0.3316 - accuracy: 0.8534 - precision: 0.8556 - recall: 0.8502 - f1_score: 0.8529 - val_loss: 0.4078 - val_accuracy: 0.8261 - val_precision: 0.8284 - val_recall: 0.8247 - val_f1_score: 0.8265\n",
      "Epoch 16/20\n",
      "5974/5974 [==============================] - 116s 19ms/step - loss: 0.3297 - accuracy: 0.8546 - precision: 0.8565 - recall: 0.8519 - f1_score: 0.8542 - val_loss: 0.4052 - val_accuracy: 0.8255 - val_precision: 0.8314 - val_recall: 0.8187 - val_f1_score: 0.8250\n",
      "Epoch 17/20\n",
      "5972/5974 [============================>.] - ETA: 0s - loss: 0.3276 - accuracy: 0.8556 - precision: 0.8577 - recall: 0.8525 - f1_score: 0.8551Restoring model weights from the end of the best epoch: 13.\n",
      "5974/5974 [==============================] - 115s 19ms/step - loss: 0.3276 - accuracy: 0.8556 - precision: 0.8577 - recall: 0.8525 - f1_score: 0.8551 - val_loss: 0.4041 - val_accuracy: 0.8259 - val_precision: 0.8316 - val_recall: 0.8193 - val_f1_score: 0.8254\n",
      "Epoch 17: early stopping\n",
      "Training finished !!\n"
     ]
    }
   ],
   "source": [
    "history=model.fit(X_train,Y_train,batch_size=150,epochs=20, validation_split=0.2, callbacks=[cp_callbacks])# here we are starting the training of model by feeding the training data\n",
    "print('Training finished !!')"
   ]
  },
  {
   "cell_type": "code",
   "execution_count": 34,
   "metadata": {
    "colab": {
     "base_uri": "https://localhost:8080/"
    },
    "id": "xdLPut8GDGM2",
    "outputId": "1409380b-d4ff-419d-8bb0-b5da3a7482ab"
   },
   "outputs": [
    {
     "name": "stdout",
     "output_type": "stream",
     "text": [
      "15000/15000 [==============================] - 127s 8ms/step - loss: 0.3990 - accuracy: 0.8256 - precision: 0.8280 - recall: 0.8213 - f1_score: 0.8246\n"
     ]
    }
   ],
   "source": [
    "accr1 = model.evaluate(X_test,Y_test) #we are starting to test the model here"
   ]
  },
  {
   "cell_type": "code",
   "execution_count": 35,
   "metadata": {
    "colab": {
     "base_uri": "https://localhost:8080/"
    },
    "id": "7tHT19KFDG9o",
    "outputId": "f4c20be5-9f07-4128-96c6-ed2c4d03a0bd"
   },
   "outputs": [
    {
     "name": "stdout",
     "output_type": "stream",
     "text": [
      "Test set\n",
      "  Accuracy: 82.56%\n",
      "  Loss: 0.40\n",
      "  precision: 0.83\n",
      "  recall: 0.82\n",
      "  f1_score: 0.82\n"
     ]
    }
   ],
   "source": [
    "print('Test set\\n  Accuracy: {:0.2f}%'.format(accr1[1]*100)) #the accuracy of the model on test data is given below\n",
    "print('  Loss: {:0.2f}'.format(accr1[0])) #the Loss of the model on test data is given below\n",
    "print('  precision: {:0.2f}'.format(accr1[2])) #the precision of the model on test data is given below\n",
    "print('  recall: {:0.2f}'.format(accr1[3])) #the recall of the model on test data is given below\n",
    "print('  f1_score: {:0.2f}'.format(accr1[4])) #the f1_score of the model on test data is given below"
   ]
  },
  {
   "cell_type": "code",
   "execution_count": 36,
   "metadata": {},
   "outputs": [
    {
     "name": "stdout",
     "output_type": "stream",
     "text": [
      "dict_keys(['loss', 'accuracy', 'precision', 'recall', 'f1_score', 'val_loss', 'val_accuracy', 'val_precision', 'val_recall', 'val_f1_score'])\n"
     ]
    },
    {
     "data": {
      "image/png": "[encoded data removed]",
      "text/plain": [
       "<Figure size 432x288 with 1 Axes>"
      ]
     },
     "metadata": {
      "needs_background": "light"
     },
     "output_type": "display_data"
    },
    {
     "data": {
      "image/png": "[encoded data removed]",
      "text/plain": [
       "<Figure size 432x288 with 1 Axes>"
      ]
     },
     "metadata": {
      "needs_background": "light"
     },
     "output_type": "display_data"
    }
   ],
   "source": [
    "print(history.history.keys())\n",
    "# summarize history for accuracy\n",
    "plt.plot(history.history['accuracy'])\n",
    "plt.plot(history.history['val_accuracy'])\n",
    "plt.title('model accuracy')\n",
    "plt.ylabel('accuracy')\n",
    "plt.xlabel('epoch')\n",
    "plt.legend(['train', 'test'], loc='upper left')\n",
    "plt.show()\n",
    "# summarize history for loss\n",
    "plt.plot(history.history['loss'])\n",
    "plt.plot(history.history['val_loss'])\n",
    "plt.title('model loss')\n",
    "plt.ylabel('loss')\n",
    "plt.xlabel('epoch')\n",
    "plt.legend(['train', 'test'], loc='upper left')\n",
    "plt.show()"
   ]
  },
  {
   "cell_type": "code",
   "execution_count": null,
   "metadata": {},
   "outputs": [],
   "source": []
  }
 ],
 "metadata": {
  "accelerator": "GPU",
  "colab": {
   "name": "sentiment analysis.ipynb",
   "provenance": [],
   "toc_visible": true
  },
  "kernelspec": {
   "display_name": "Python 3 (ipykernel)",
   "language": "python",
   "name": "python3"
  },
  "language_info": {
   "codemirror_mode": {
    "name": "ipython",
    "version": 3
   },
   "file_extension": ".py",
   "mimetype": "text/x-python",
   "name": "python",
   "nbconvert_exporter": "python",
   "pygments_lexer": "ipython3",
   "version": "3.9.7"
  }
 },
 "nbformat": 4,
 "nbformat_minor": 1
}
