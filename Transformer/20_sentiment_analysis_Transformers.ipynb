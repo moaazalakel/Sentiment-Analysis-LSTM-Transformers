{
 "cells": [
  {
   "cell_type": "markdown",
   "metadata": {
    "id": "EzE79cIj1fL1"
   },
   "source": [
    "# Importing liberaries"
   ]
  },
  {
   "cell_type": "code",
   "execution_count": 1,
   "metadata": {
    "id": "Y2tdCzxo1fL4"
   },
   "outputs": [],
   "source": [
    "import zipfile\n",
    "import os\n",
    "import pandas as pd\n",
    "import nltk\n",
    "from nltk.corpus import stopwords\n",
    "import re\n",
    "from nltk.stem.wordnet import WordNetLemmatizer\n",
    "from nltk.corpus import wordnet as wn"
   ]
  },
  {
   "cell_type": "code",
   "execution_count": 2,
   "metadata": {
    "colab": {
     "base_uri": "https://localhost:8080/"
    },
    "id": "WwS2SB0G13YV",
    "outputId": "b8ffad59-1f65-44da-e58a-bb66597f6dba"
   },
   "outputs": [],
   "source": [
    "#pip install tensorflow_addons"
   ]
  },
  {
   "cell_type": "code",
   "execution_count": 3,
   "metadata": {
    "id": "GMFMD20ztBUW"
   },
   "outputs": [],
   "source": [
    "import tensorflow as tf\n",
    "from tensorflow.keras.preprocessing.text import Tokenizer\n",
    "from tensorflow.keras.preprocessing import sequence\n",
    "from tensorflow.keras.layers import LSTM, Activation, Dense, Dropout, Input, Embedding, SpatialDropout1D\n",
    "from tensorflow.keras.models import Model\n",
    "from tensorflow.keras.optimizers import RMSprop\n",
    "from tensorflow.python.client import device_lib\n",
    "from sklearn.model_selection import train_test_split\n",
    "import tensorflow_addons as tfa\n",
    "from nltk.tokenize import word_tokenize\n",
    "import matplotlib.pyplot as plt\n",
    "from tensorflow.keras import layers\n",
    "from tensorflow import keras\n",
    "from tensorflow.keras import callbacks"
   ]
  },
  {
   "cell_type": "code",
   "execution_count": 4,
   "metadata": {
    "colab": {
     "base_uri": "https://localhost:8080/"
    },
    "id": "0y0kg2nq1sYW",
    "outputId": "fa4e5cbb-fd45-4195-e3ee-f08663db26fd"
   },
   "outputs": [
    {
     "data": {
      "text/plain": [
       "[PhysicalDevice(name='/physical_device:GPU:0', device_type='GPU')]"
      ]
     },
     "execution_count": 4,
     "metadata": {},
     "output_type": "execute_result"
    }
   ],
   "source": [
    "#print(device_lib.list_local_devices())\n",
    "tf.config.list_physical_devices('GPU')"
   ]
  },
  {
   "cell_type": "code",
   "execution_count": 5,
   "metadata": {
    "colab": {
     "base_uri": "https://localhost:8080/"
    },
    "id": "IJM8OxPQ1fL4",
    "outputId": "e17880ff-1fc3-4771-d86a-9c759e5b8f13"
   },
   "outputs": [
    {
     "name": "stderr",
     "output_type": "stream",
     "text": [
      "[nltk_data] Downloading package stopwords to\n",
      "[nltk_data]     C:\\Users\\moaaz\\AppData\\Roaming\\nltk_data...\n",
      "[nltk_data]   Package stopwords is already up-to-date!\n"
     ]
    },
    {
     "data": {
      "text/plain": [
       "True"
      ]
     },
     "execution_count": 5,
     "metadata": {},
     "output_type": "execute_result"
    }
   ],
   "source": [
    "nltk.download('stopwords')"
   ]
  },
  {
   "cell_type": "code",
   "execution_count": 6,
   "metadata": {
    "colab": {
     "base_uri": "https://localhost:8080/"
    },
    "id": "Ow4Y9WnK1fL5",
    "outputId": "de0cd3a6-d1d9-4a97-aac2-17169d614015"
   },
   "outputs": [
    {
     "name": "stderr",
     "output_type": "stream",
     "text": [
      "[nltk_data] Downloading package wordnet to\n",
      "[nltk_data]     C:\\Users\\moaaz\\AppData\\Roaming\\nltk_data...\n",
      "[nltk_data]   Package wordnet is already up-to-date!\n"
     ]
    },
    {
     "data": {
      "text/plain": [
       "True"
      ]
     },
     "execution_count": 6,
     "metadata": {},
     "output_type": "execute_result"
    }
   ],
   "source": [
    "nltk.download('wordnet')"
   ]
  },
  {
   "cell_type": "markdown",
   "metadata": {
    "id": "TjjudeTd1fL6"
   },
   "source": [
    "# Preprocessing the dataset"
   ]
  },
  {
   "cell_type": "code",
   "execution_count": 7,
   "metadata": {
    "id": "6A9K1jIo-7Ow"
   },
   "outputs": [],
   "source": [
    "data= pd.read_csv('../training.1600000.processed.noemoticon.csv.zip',  encoding='ISO-8859-1', names=['1','2','3','4','5', '6'], header =None )"
   ]
  },
  {
   "cell_type": "code",
   "execution_count": 8,
   "metadata": {
    "colab": {
     "base_uri": "https://localhost:8080/",
     "height": 203
    },
    "id": "clCDXM5tAseB",
    "outputId": "f2b2558f-05e4-4ab2-99df-c86ac1a8b491"
   },
   "outputs": [
    {
     "data": {
      "text/html": [
       "<div>\n",
       "<style scoped>\n",
       "    .dataframe tbody tr th:only-of-type {\n",
       "        vertical-align: middle;\n",
       "    }\n",
       "\n",
       "    .dataframe tbody tr th {\n",
       "        vertical-align: top;\n",
       "    }\n",
       "\n",
       "    .dataframe thead th {\n",
       "        text-align: right;\n",
       "    }\n",
       "</style>\n",
       "<table border=\"1\" class=\"dataframe\">\n",
       "  <thead>\n",
       "    <tr style=\"text-align: right;\">\n",
       "      <th></th>\n",
       "      <th>1</th>\n",
       "      <th>2</th>\n",
       "      <th>3</th>\n",
       "      <th>4</th>\n",
       "      <th>5</th>\n",
       "      <th>6</th>\n",
       "    </tr>\n",
       "  </thead>\n",
       "  <tbody>\n",
       "    <tr>\n",
       "      <th>0</th>\n",
       "      <td>0</td>\n",
       "      <td>1467810369</td>\n",
       "      <td>Mon Apr 06 22:19:45 PDT 2009</td>\n",
       "      <td>NO_QUERY</td>\n",
       "      <td>_TheSpecialOne_</td>\n",
       "      <td>@switchfoot http://twitpic.com/2y1zl - Awww, t...</td>\n",
       "    </tr>\n",
       "    <tr>\n",
       "      <th>1</th>\n",
       "      <td>0</td>\n",
       "      <td>1467810672</td>\n",
       "      <td>Mon Apr 06 22:19:49 PDT 2009</td>\n",
       "      <td>NO_QUERY</td>\n",
       "      <td>scotthamilton</td>\n",
       "      <td>is upset that he can't update his Facebook by ...</td>\n",
       "    </tr>\n",
       "    <tr>\n",
       "      <th>2</th>\n",
       "      <td>0</td>\n",
       "      <td>1467810917</td>\n",
       "      <td>Mon Apr 06 22:19:53 PDT 2009</td>\n",
       "      <td>NO_QUERY</td>\n",
       "      <td>mattycus</td>\n",
       "      <td>@Kenichan I dived many times for the ball. Man...</td>\n",
       "    </tr>\n",
       "    <tr>\n",
       "      <th>3</th>\n",
       "      <td>0</td>\n",
       "      <td>1467811184</td>\n",
       "      <td>Mon Apr 06 22:19:57 PDT 2009</td>\n",
       "      <td>NO_QUERY</td>\n",
       "      <td>ElleCTF</td>\n",
       "      <td>my whole body feels itchy and like its on fire</td>\n",
       "    </tr>\n",
       "    <tr>\n",
       "      <th>4</th>\n",
       "      <td>0</td>\n",
       "      <td>1467811193</td>\n",
       "      <td>Mon Apr 06 22:19:57 PDT 2009</td>\n",
       "      <td>NO_QUERY</td>\n",
       "      <td>Karoli</td>\n",
       "      <td>@nationwideclass no, it's not behaving at all....</td>\n",
       "    </tr>\n",
       "  </tbody>\n",
       "</table>\n",
       "</div>"
      ],
      "text/plain": [
       "   1           2                             3         4                5  \\\n",
       "0  0  1467810369  Mon Apr 06 22:19:45 PDT 2009  NO_QUERY  _TheSpecialOne_   \n",
       "1  0  1467810672  Mon Apr 06 22:19:49 PDT 2009  NO_QUERY    scotthamilton   \n",
       "2  0  1467810917  Mon Apr 06 22:19:53 PDT 2009  NO_QUERY         mattycus   \n",
       "3  0  1467811184  Mon Apr 06 22:19:57 PDT 2009  NO_QUERY          ElleCTF   \n",
       "4  0  1467811193  Mon Apr 06 22:19:57 PDT 2009  NO_QUERY           Karoli   \n",
       "\n",
       "                                                   6  \n",
       "0  @switchfoot http://twitpic.com/2y1zl - Awww, t...  \n",
       "1  is upset that he can't update his Facebook by ...  \n",
       "2  @Kenichan I dived many times for the ball. Man...  \n",
       "3    my whole body feels itchy and like its on fire   \n",
       "4  @nationwideclass no, it's not behaving at all....  "
      ]
     },
     "execution_count": 8,
     "metadata": {},
     "output_type": "execute_result"
    }
   ],
   "source": [
    "data.head()"
   ]
  },
  {
   "cell_type": "code",
   "execution_count": 9,
   "metadata": {
    "colab": {
     "base_uri": "https://localhost:8080/"
    },
    "id": "mk1bed1x1fL7",
    "outputId": "4f97eded-b871-4429-f748-09ef8bb3b519"
   },
   "outputs": [
    {
     "name": "stdout",
     "output_type": "stream",
     "text": [
      "The number of records in the dataset is 1600000 record.\n"
     ]
    }
   ],
   "source": [
    "#number of records in the dataset\n",
    "print('The number of records in the dataset is '+ str(len(data))+ ' record.') "
   ]
  },
  {
   "cell_type": "code",
   "execution_count": 10,
   "metadata": {
    "colab": {
     "base_uri": "https://localhost:8080/"
    },
    "id": "Ay4R1q0A1fL7",
    "outputId": "d92815b4-f3f1-45b2-91e2-c89f55914e08",
    "scrolled": true
   },
   "outputs": [
    {
     "data": {
      "text/plain": [
       "0"
      ]
     },
     "execution_count": 10,
     "metadata": {},
     "output_type": "execute_result"
    }
   ],
   "source": [
    "#checking for null values\n",
    "data.isnull().sum().sum() "
   ]
  },
  {
   "cell_type": "code",
   "execution_count": 11,
   "metadata": {
    "id": "SQOUgcOJ1fL8"
   },
   "outputs": [],
   "source": [
    "#change the target and tweets columns' names \n",
    "data = data.rename(columns = {'1': 'targ', '6': 'texts'})"
   ]
  },
  {
   "cell_type": "code",
   "execution_count": 12,
   "metadata": {
    "colab": {
     "base_uri": "https://localhost:8080/"
    },
    "id": "BZ6WptxyE1Nk",
    "outputId": "1533410f-07b0-4c2b-aa87-bb430a6572aa"
   },
   "outputs": [
    {
     "name": "stderr",
     "output_type": "stream",
     "text": [
      "C:\\Users\\moaaz\\AppData\\Local\\Temp/ipykernel_11300/3684360877.py:1: SettingWithCopyWarning: \n",
      "A value is trying to be set on a copy of a slice from a DataFrame\n",
      "\n",
      "See the caveats in the documentation: https://pandas.pydata.org/pandas-docs/stable/user_guide/indexing.html#returning-a-view-versus-a-copy\n",
      "  data['targ'][data['targ']==4]=1\n"
     ]
    }
   ],
   "source": [
    "data['targ'][data['targ']==4]=1"
   ]
  },
  {
   "cell_type": "code",
   "execution_count": 13,
   "metadata": {
    "id": "fcUD-wF2DZhL"
   },
   "outputs": [],
   "source": [
    "data_pos = data[data['targ'] == 1]\n",
    "data_neg = data[data['targ'] == 0]"
   ]
  },
  {
   "cell_type": "code",
   "execution_count": 14,
   "metadata": {
    "colab": {
     "base_uri": "https://localhost:8080/"
    },
    "id": "sgEzGDoB1sYh",
    "outputId": "3f8dbbec-331c-4943-c5e5-4ed77a690179"
   },
   "outputs": [
    {
     "name": "stdout",
     "output_type": "stream",
     "text": [
      "800000\n",
      "800000\n"
     ]
    }
   ],
   "source": [
    "print(len(data_pos))\n",
    "print(len(data_neg))"
   ]
  },
  {
   "cell_type": "code",
   "execution_count": 15,
   "metadata": {
    "id": "s65ftUboDedE"
   },
   "outputs": [],
   "source": [
    "#data_pos = data_pos.iloc[:int(50000)]\n",
    "#data_neg = data_neg.iloc[:int(50000)]"
   ]
  },
  {
   "cell_type": "code",
   "execution_count": 16,
   "metadata": {
    "id": "xTvuA1ySDhWY"
   },
   "outputs": [],
   "source": [
    "data = pd.concat([data_pos, data_neg])"
   ]
  },
  {
   "cell_type": "code",
   "execution_count": 17,
   "metadata": {
    "colab": {
     "base_uri": "https://localhost:8080/",
     "height": 417
    },
    "id": "hiZK25gAEY6Y",
    "outputId": "a13ea9ed-5ec6-445b-a8f6-af3354e2566b"
   },
   "outputs": [
    {
     "data": {
      "text/html": [
       "<div>\n",
       "<style scoped>\n",
       "    .dataframe tbody tr th:only-of-type {\n",
       "        vertical-align: middle;\n",
       "    }\n",
       "\n",
       "    .dataframe tbody tr th {\n",
       "        vertical-align: top;\n",
       "    }\n",
       "\n",
       "    .dataframe thead th {\n",
       "        text-align: right;\n",
       "    }\n",
       "</style>\n",
       "<table border=\"1\" class=\"dataframe\">\n",
       "  <thead>\n",
       "    <tr style=\"text-align: right;\">\n",
       "      <th></th>\n",
       "      <th>targ</th>\n",
       "      <th>2</th>\n",
       "      <th>3</th>\n",
       "      <th>4</th>\n",
       "      <th>5</th>\n",
       "      <th>texts</th>\n",
       "    </tr>\n",
       "  </thead>\n",
       "  <tbody>\n",
       "    <tr>\n",
       "      <th>800000</th>\n",
       "      <td>1</td>\n",
       "      <td>1467822272</td>\n",
       "      <td>Mon Apr 06 22:22:45 PDT 2009</td>\n",
       "      <td>NO_QUERY</td>\n",
       "      <td>ersle</td>\n",
       "      <td>I LOVE @Health4UandPets u guys r the best!!</td>\n",
       "    </tr>\n",
       "    <tr>\n",
       "      <th>800001</th>\n",
       "      <td>1</td>\n",
       "      <td>1467822273</td>\n",
       "      <td>Mon Apr 06 22:22:45 PDT 2009</td>\n",
       "      <td>NO_QUERY</td>\n",
       "      <td>becca210</td>\n",
       "      <td>im meeting up with one of my besties tonight! ...</td>\n",
       "    </tr>\n",
       "    <tr>\n",
       "      <th>800002</th>\n",
       "      <td>1</td>\n",
       "      <td>1467822283</td>\n",
       "      <td>Mon Apr 06 22:22:46 PDT 2009</td>\n",
       "      <td>NO_QUERY</td>\n",
       "      <td>Wingman29</td>\n",
       "      <td>@DaRealSunisaKim Thanks for the Twitter add, S...</td>\n",
       "    </tr>\n",
       "    <tr>\n",
       "      <th>800003</th>\n",
       "      <td>1</td>\n",
       "      <td>1467822287</td>\n",
       "      <td>Mon Apr 06 22:22:46 PDT 2009</td>\n",
       "      <td>NO_QUERY</td>\n",
       "      <td>katarinka</td>\n",
       "      <td>Being sick can be really cheap when it hurts t...</td>\n",
       "    </tr>\n",
       "    <tr>\n",
       "      <th>800004</th>\n",
       "      <td>1</td>\n",
       "      <td>1467822293</td>\n",
       "      <td>Mon Apr 06 22:22:46 PDT 2009</td>\n",
       "      <td>NO_QUERY</td>\n",
       "      <td>_EmilyYoung</td>\n",
       "      <td>@LovesBrooklyn2 he has that effect on everyone</td>\n",
       "    </tr>\n",
       "    <tr>\n",
       "      <th>...</th>\n",
       "      <td>...</td>\n",
       "      <td>...</td>\n",
       "      <td>...</td>\n",
       "      <td>...</td>\n",
       "      <td>...</td>\n",
       "      <td>...</td>\n",
       "    </tr>\n",
       "    <tr>\n",
       "      <th>799995</th>\n",
       "      <td>0</td>\n",
       "      <td>2329205009</td>\n",
       "      <td>Thu Jun 25 10:28:28 PDT 2009</td>\n",
       "      <td>NO_QUERY</td>\n",
       "      <td>dandykim</td>\n",
       "      <td>Sick  Spending my day laying in bed listening ...</td>\n",
       "    </tr>\n",
       "    <tr>\n",
       "      <th>799996</th>\n",
       "      <td>0</td>\n",
       "      <td>2329205038</td>\n",
       "      <td>Thu Jun 25 10:28:28 PDT 2009</td>\n",
       "      <td>NO_QUERY</td>\n",
       "      <td>bigenya</td>\n",
       "      <td>Gmail is down?</td>\n",
       "    </tr>\n",
       "    <tr>\n",
       "      <th>799997</th>\n",
       "      <td>0</td>\n",
       "      <td>2329205473</td>\n",
       "      <td>Thu Jun 25 10:28:30 PDT 2009</td>\n",
       "      <td>NO_QUERY</td>\n",
       "      <td>LeeLHoke</td>\n",
       "      <td>rest in peace Farrah! So sad</td>\n",
       "    </tr>\n",
       "    <tr>\n",
       "      <th>799998</th>\n",
       "      <td>0</td>\n",
       "      <td>2329205574</td>\n",
       "      <td>Thu Jun 25 10:28:30 PDT 2009</td>\n",
       "      <td>NO_QUERY</td>\n",
       "      <td>davidlmulder</td>\n",
       "      <td>@Eric_Urbane Sounds like a rival is flagging y...</td>\n",
       "    </tr>\n",
       "    <tr>\n",
       "      <th>799999</th>\n",
       "      <td>0</td>\n",
       "      <td>2329205794</td>\n",
       "      <td>Thu Jun 25 10:28:31 PDT 2009</td>\n",
       "      <td>NO_QUERY</td>\n",
       "      <td>tpchandler</td>\n",
       "      <td>has to resit exams over summer...  wishes he w...</td>\n",
       "    </tr>\n",
       "  </tbody>\n",
       "</table>\n",
       "<p>1600000 rows × 6 columns</p>\n",
       "</div>"
      ],
      "text/plain": [
       "        targ           2                             3         4  \\\n",
       "800000     1  1467822272  Mon Apr 06 22:22:45 PDT 2009  NO_QUERY   \n",
       "800001     1  1467822273  Mon Apr 06 22:22:45 PDT 2009  NO_QUERY   \n",
       "800002     1  1467822283  Mon Apr 06 22:22:46 PDT 2009  NO_QUERY   \n",
       "800003     1  1467822287  Mon Apr 06 22:22:46 PDT 2009  NO_QUERY   \n",
       "800004     1  1467822293  Mon Apr 06 22:22:46 PDT 2009  NO_QUERY   \n",
       "...      ...         ...                           ...       ...   \n",
       "799995     0  2329205009  Thu Jun 25 10:28:28 PDT 2009  NO_QUERY   \n",
       "799996     0  2329205038  Thu Jun 25 10:28:28 PDT 2009  NO_QUERY   \n",
       "799997     0  2329205473  Thu Jun 25 10:28:30 PDT 2009  NO_QUERY   \n",
       "799998     0  2329205574  Thu Jun 25 10:28:30 PDT 2009  NO_QUERY   \n",
       "799999     0  2329205794  Thu Jun 25 10:28:31 PDT 2009  NO_QUERY   \n",
       "\n",
       "                   5                                              texts  \n",
       "800000         ersle       I LOVE @Health4UandPets u guys r the best!!   \n",
       "800001      becca210  im meeting up with one of my besties tonight! ...  \n",
       "800002     Wingman29  @DaRealSunisaKim Thanks for the Twitter add, S...  \n",
       "800003     katarinka  Being sick can be really cheap when it hurts t...  \n",
       "800004   _EmilyYoung    @LovesBrooklyn2 he has that effect on everyone   \n",
       "...              ...                                                ...  \n",
       "799995      dandykim  Sick  Spending my day laying in bed listening ...  \n",
       "799996       bigenya                                    Gmail is down?   \n",
       "799997      LeeLHoke                      rest in peace Farrah! So sad   \n",
       "799998  davidlmulder  @Eric_Urbane Sounds like a rival is flagging y...  \n",
       "799999    tpchandler  has to resit exams over summer...  wishes he w...  \n",
       "\n",
       "[1600000 rows x 6 columns]"
      ]
     },
     "execution_count": 17,
     "metadata": {},
     "output_type": "execute_result"
    }
   ],
   "source": [
    "data"
   ]
  },
  {
   "cell_type": "code",
   "execution_count": 18,
   "metadata": {
    "colab": {
     "base_uri": "https://localhost:8080/",
     "height": 203
    },
    "id": "FvwPeAYc1fL8",
    "outputId": "0e99df6e-ea41-4b97-8d53-99eeff989cde"
   },
   "outputs": [
    {
     "data": {
      "text/html": [
       "<div>\n",
       "<style scoped>\n",
       "    .dataframe tbody tr th:only-of-type {\n",
       "        vertical-align: middle;\n",
       "    }\n",
       "\n",
       "    .dataframe tbody tr th {\n",
       "        vertical-align: top;\n",
       "    }\n",
       "\n",
       "    .dataframe thead th {\n",
       "        text-align: right;\n",
       "    }\n",
       "</style>\n",
       "<table border=\"1\" class=\"dataframe\">\n",
       "  <thead>\n",
       "    <tr style=\"text-align: right;\">\n",
       "      <th></th>\n",
       "      <th>targ</th>\n",
       "      <th>texts</th>\n",
       "    </tr>\n",
       "  </thead>\n",
       "  <tbody>\n",
       "    <tr>\n",
       "      <th>800000</th>\n",
       "      <td>1</td>\n",
       "      <td>I LOVE @Health4UandPets u guys r the best!!</td>\n",
       "    </tr>\n",
       "    <tr>\n",
       "      <th>800001</th>\n",
       "      <td>1</td>\n",
       "      <td>im meeting up with one of my besties tonight! ...</td>\n",
       "    </tr>\n",
       "    <tr>\n",
       "      <th>800002</th>\n",
       "      <td>1</td>\n",
       "      <td>@DaRealSunisaKim Thanks for the Twitter add, S...</td>\n",
       "    </tr>\n",
       "    <tr>\n",
       "      <th>800003</th>\n",
       "      <td>1</td>\n",
       "      <td>Being sick can be really cheap when it hurts t...</td>\n",
       "    </tr>\n",
       "    <tr>\n",
       "      <th>800004</th>\n",
       "      <td>1</td>\n",
       "      <td>@LovesBrooklyn2 he has that effect on everyone</td>\n",
       "    </tr>\n",
       "  </tbody>\n",
       "</table>\n",
       "</div>"
      ],
      "text/plain": [
       "        targ                                              texts\n",
       "800000     1       I LOVE @Health4UandPets u guys r the best!! \n",
       "800001     1  im meeting up with one of my besties tonight! ...\n",
       "800002     1  @DaRealSunisaKim Thanks for the Twitter add, S...\n",
       "800003     1  Being sick can be really cheap when it hurts t...\n",
       "800004     1    @LovesBrooklyn2 he has that effect on everyone "
      ]
     },
     "execution_count": 18,
     "metadata": {},
     "output_type": "execute_result"
    }
   ],
   "source": [
    "data_nw = data.drop(columns = ['2','3','4','5'])\n",
    "\n",
    "data_nw.head()"
   ]
  },
  {
   "cell_type": "markdown",
   "metadata": {
    "id": "DTKYDaw01fL9"
   },
   "source": [
    "# Text preprocessing"
   ]
  },
  {
   "cell_type": "code",
   "execution_count": 19,
   "metadata": {
    "colab": {
     "base_uri": "https://localhost:8080/"
    },
    "id": "YGNwwcZE1fL9",
    "outputId": "365bf99f-7524-446f-a0a3-2021ca2b1af8"
   },
   "outputs": [
    {
     "data": {
      "text/plain": [
       "179"
      ]
     },
     "execution_count": 19,
     "metadata": {},
     "output_type": "execute_result"
    }
   ],
   "source": [
    "#stop words list \n",
    "list_old_stp_wrds = stopwords.words('english')\n",
    "len(list_old_stp_wrds)"
   ]
  },
  {
   "cell_type": "code",
   "execution_count": 20,
   "metadata": {
    "colab": {
     "base_uri": "https://localhost:8080/"
    },
    "id": "2hDRjg1X1fL9",
    "outputId": "51273111-7692-4734-ea61-f43eb9d7e148"
   },
   "outputs": [
    {
     "name": "stdout",
     "output_type": "stream",
     "text": [
      "don't\n",
      "aren't\n",
      "couldn\n",
      "couldn't\n",
      "didn\n",
      "didn't\n",
      "doesn\n",
      "doesn't\n",
      "hadn\n",
      "hadn't\n",
      "hasn\n",
      "hasn't\n",
      "haven't\n",
      "isn\n",
      "isn't\n",
      "mightn't\n",
      "mustn't\n",
      "needn\n",
      "needn't\n",
      "shan't\n",
      "shouldn\n",
      "shouldn't\n",
      "wasn\n",
      "wasn't\n",
      "weren't\n",
      "won't\n",
      "wouldn\n",
      "wouldn't\n"
     ]
    },
    {
     "data": {
      "text/plain": [
       "151"
      ]
     },
     "execution_count": 20,
     "metadata": {},
     "output_type": "execute_result"
    }
   ],
   "source": [
    "list_stp_wrds =[]\n",
    "for stpwrd in list_old_stp_wrds:\n",
    "    \n",
    "    if stpwrd.endswith(\"n't\") or stpwrd.endswith(\"dn\") or stpwrd.endswith(\"sn\"):\n",
    "        print(stpwrd)\n",
    "    else:\n",
    "        list_stp_wrds.append(stpwrd)\n",
    "        \n",
    "len(list_stp_wrds)    #updated  "
   ]
  },
  {
   "cell_type": "code",
   "execution_count": 21,
   "metadata": {
    "colab": {
     "base_uri": "https://localhost:8080/"
    },
    "id": "hI8-9u4__JxI",
    "outputId": "ab1a5800-40c8-4b77-e784-e0beb87a86d7"
   },
   "outputs": [
    {
     "name": "stderr",
     "output_type": "stream",
     "text": [
      "[nltk_data] Downloading package punkt to\n",
      "[nltk_data]     C:\\Users\\moaaz\\AppData\\Roaming\\nltk_data...\n",
      "[nltk_data]   Package punkt is already up-to-date!\n"
     ]
    },
    {
     "data": {
      "text/plain": [
       "True"
      ]
     },
     "execution_count": 21,
     "metadata": {},
     "output_type": "execute_result"
    }
   ],
   "source": [
    "nltk.download('punkt')"
   ]
  },
  {
   "cell_type": "code",
   "execution_count": 22,
   "metadata": {
    "id": "H3o2WSRU1fL-"
   },
   "outputs": [],
   "source": [
    "def Preprocessing(tw):\n",
    "    \n",
    "    emoji = {':)': 'smile', ':-)': 'smile', ';d': 'wink', ':-E': 'vampire', ':(': 'sad', \n",
    "              ':-(': 'sad', ':-<': 'sad', ':P': 'raspberry', ':O': 'surprised',\n",
    "              ':-@': 'shocked', ':@': 'shocked',':-$': 'confused', ':\\\\': 'annoyed', \n",
    "              ':#': 'mute', ':X': 'mute', ':^)': 'smile', ':-&': 'confused', '$_$': 'greedy',\n",
    "              '@@': 'eyeroll', ':-!': 'confused', ':-D': 'smile', ':-0': 'yell', 'O.o': 'confused',\n",
    "              '<(-_-)>': 'robot', 'd[-_-]b': 'dj', \":'-)\": 'sadsmile', ';)': 'wink', \n",
    "              ';-)': 'wink', 'O:-)': 'angel','O*-)': 'angel','(:-D': 'gossip', '=^.^=': 'cat'}\n",
    "\n",
    "    links = r\"((http://)[^ ]*|(https://)[^ ]*|( www\\.)[^ ]*)\"\n",
    "    mentions = r\"@[^\\s]+\"\n",
    "    nonalpha = '[^a-zA-Z0-9]'\n",
    "    \n",
    "    \n",
    "    \n",
    "    tw = re.sub(links,'',tw)\n",
    "    \n",
    "    tw = re.sub(mentions, '', tw) \n",
    "    \n",
    "    \n",
    "    \n",
    "    for em in emoji.keys():\n",
    "        tw = tw.replace(em, emoji[em])   \n",
    "    \n",
    "    tw = re.sub(nonalpha, \" \", tw)     \n",
    "    \n",
    "    tokens = word_tokenize(tw)   \n",
    "    lemm = '';\n",
    "    \n",
    "    for wrd in tokens:\n",
    "        if wrd not in list_stp_wrds:  \n",
    "            if len(wrd) > 1:\n",
    "                obj = WordNetLemmatizer()\n",
    "                  \n",
    "\n",
    "                lem_wrd = obj.lemmatize(wrd)  \n",
    "                lemm += (lem_wrd + ' ')    \n",
    "    \n",
    "    return lemm.strip()"
   ]
  },
  {
   "cell_type": "code",
   "execution_count": 23,
   "metadata": {
    "colab": {
     "base_uri": "https://localhost:8080/"
    },
    "id": "Yosw8p-e1fL-",
    "outputId": "221e2b0a-a5ce-4f33-8b41-6c84a3814e57",
    "scrolled": true
   },
   "outputs": [
    {
     "data": {
      "text/plain": [
       "800000                                        LOVE guy best\n",
       "800001    im meeting one besties tonight Cant wait GIRL ...\n",
       "800002    Thanks Twitter add Sunisa got meet HIN show DC...\n",
       "800003    Being sick really cheap hurt much eat real foo...\n",
       "800004                                      effect everyone\n",
       "                                ...                        \n",
       "799995               Sick Spending day laying bed listening\n",
       "799996                                                Gmail\n",
       "799997                             rest peace Farrah So sad\n",
       "799998        Sounds like rival flagging ad Not much though\n",
       "799999    resit exam summer wish worked harder first yea...\n",
       "Name: texts, Length: 1600000, dtype: object"
      ]
     },
     "execution_count": 23,
     "metadata": {},
     "output_type": "execute_result"
    }
   ],
   "source": [
    "data_nw['texts'] = data_nw['texts'].apply(Preprocessing)\n",
    "data_nw['texts']"
   ]
  },
  {
   "cell_type": "code",
   "execution_count": 24,
   "metadata": {
    "id": "DxjLqbveAbVH"
   },
   "outputs": [],
   "source": [
    "X=data.texts\n",
    "y=data.targ"
   ]
  },
  {
   "cell_type": "markdown",
   "metadata": {
    "id": "VejHqF1VBfU9"
   },
   "source": [
    "Preparing the input features for training \n",
    "\n",
    "We converting the text words into arrays form.\n",
    "Maximum 500 features/words selected for training. These 500 words will be selected on the importance that will distinguish between the positive tweets and negative tweets."
   ]
  },
  {
   "cell_type": "code",
   "execution_count": 25,
   "metadata": {
    "id": "RLMfRxntA0Gm"
   },
   "outputs": [],
   "source": [
    "max_len = 120\n",
    "num_of_words = 20000\n",
    "tok = Tokenizer(num_words= num_of_words)\n",
    "tok.fit_on_texts(X)\n",
    "sequences = tok.texts_to_sequences(X)\n",
    "sequences_matrix = sequence.pad_sequences(sequences, maxlen = max_len)"
   ]
  },
  {
   "cell_type": "code",
   "execution_count": 26,
   "metadata": {
    "colab": {
     "base_uri": "https://localhost:8080/"
    },
    "id": "sAPDrIIF_6Ql",
    "outputId": "bed99768-7ba0-4f73-ea13-404d1b2ecbaa"
   },
   "outputs": [
    {
     "data": {
      "text/plain": [
       "(1600000, 120)"
      ]
     },
     "execution_count": 26,
     "metadata": {},
     "output_type": "execute_result"
    }
   ],
   "source": [
    "sequences_matrix.shape"
   ]
  },
  {
   "cell_type": "code",
   "execution_count": 27,
   "metadata": {
    "id": "RnY6dou91sYp"
   },
   "outputs": [],
   "source": [
    "#max_list = [max(s) for s in sequences]\n",
    "#max_word = max(max_list)\n",
    "#print(max_word)"
   ]
  },
  {
   "cell_type": "markdown",
   "metadata": {
    "id": "qo5RcHPBBpVA"
   },
   "source": [
    "total 1600000 tweets and the number words/features are 118"
   ]
  },
  {
   "cell_type": "markdown",
   "metadata": {
    "id": "-V8iwFSxB44z"
   },
   "source": [
    "Separating the 70% data for training data and 30% for testing data"
   ]
  },
  {
   "cell_type": "code",
   "execution_count": 28,
   "metadata": {
    "id": "5ljZ8KPfBqRi"
   },
   "outputs": [],
   "source": [
    "X_train, X_test, Y_train, Y_test = train_test_split(sequences_matrix, y, test_size=0.3, random_state=2)"
   ]
  },
  {
   "cell_type": "code",
   "execution_count": 29,
   "metadata": {
    "id": "1STBE40S2rbd"
   },
   "outputs": [],
   "source": [
    "class TransformerBlock(layers.Layer):\n",
    "    def __init__(self, embed_dim, num_heads, ff_dim, rate=0.1):\n",
    "        super(TransformerBlock, self).__init__()\n",
    "        self.att = layers.MultiHeadAttention(num_heads=num_heads, key_dim=embed_dim)\n",
    "        self.ffn = keras.Sequential(\n",
    "            [layers.Dense(ff_dim, activation=\"relu\"), layers.Dense(embed_dim),]\n",
    "        )\n",
    "        self.layernorm1 = layers.LayerNormalization(epsilon=1e-6)\n",
    "        self.layernorm2 = layers.LayerNormalization(epsilon=1e-6)\n",
    "        self.dropout1 = layers.Dropout(rate)\n",
    "        self.dropout2 = layers.Dropout(rate)\n",
    "\n",
    "    def call(self, inputs, training):\n",
    "        attn_output = self.att(inputs, inputs)\n",
    "        attn_output = self.dropout1(attn_output, training=training)\n",
    "        out1 = self.layernorm1(inputs + attn_output)\n",
    "        ffn_output = self.ffn(out1)\n",
    "        ffn_output = self.dropout2(ffn_output, training=training)\n",
    "        return self.layernorm2(out1 + ffn_output)"
   ]
  },
  {
   "cell_type": "code",
   "execution_count": 30,
   "metadata": {
    "id": "Siy4XOT43Rzk"
   },
   "outputs": [],
   "source": [
    "class TokenAndPositionEmbedding(layers.Layer):\n",
    "    def __init__(self, maxlen, vocab_size, embed_dim):\n",
    "        super(TokenAndPositionEmbedding, self).__init__()\n",
    "        self.token_emb = layers.Embedding(input_dim=vocab_size, output_dim=embed_dim)\n",
    "        self.pos_emb = layers.Embedding(input_dim=maxlen, output_dim=embed_dim)\n",
    "\n",
    "    def call(self, x):\n",
    "        maxlen = tf.shape(x)[-1]\n",
    "        positions = tf.range(start=0, limit=maxlen, delta=1)\n",
    "        positions = self.pos_emb(positions)\n",
    "        x = self.token_emb(x)\n",
    "        return x + positions"
   ]
  },
  {
   "cell_type": "code",
   "execution_count": 31,
   "metadata": {
    "id": "zJiFuztn4GJf"
   },
   "outputs": [],
   "source": [
    "embed_dim = 32  # Embedding size for each token\n",
    "num_heads = 2  # Number of attention heads\n",
    "ff_dim = 32  # Hidden layer size in feed forward network inside transformer\n",
    "\n",
    "inputs = layers.Input(shape=(max_len, ))\n",
    "embedding_layer = TokenAndPositionEmbedding(max_len, num_of_words, embed_dim)\n",
    "x = embedding_layer(inputs)\n",
    "transformer_block = TransformerBlock(embed_dim, num_heads, ff_dim)\n",
    "x = transformer_block(x)\n",
    "x = layers.GlobalAveragePooling1D()(x)\n",
    "x = layers.Dropout(0.1)(x)\n",
    "x = layers.Dense(20, activation=\"relu\")(x)\n",
    "x = layers.Dropout(0.1)(x)\n",
    "outputs = layers.Dense(1, activation=\"sigmoid\")(x)\n",
    "\n",
    "model = keras.Model(inputs=inputs, outputs=outputs)"
   ]
  },
  {
   "cell_type": "code",
   "execution_count": 32,
   "metadata": {
    "id": "fgxbIvLJCC83"
   },
   "outputs": [],
   "source": [
    "#model = tensorflow_based_model() # here we are calling the function of created model\n",
    "model.compile(loss='binary_crossentropy',optimizer= \"Adam\" ,metrics=['accuracy' , tf.keras.metrics.Precision(),\n",
    "                              tf.keras.metrics.Recall() , tfa.metrics.F1Score(num_classes=1,\n",
    "                                                  average='macro',\n",
    "                                                  threshold=0.5)])"
   ]
  },
  {
   "cell_type": "code",
   "execution_count": 33,
   "metadata": {
    "id": "jqb1zFft1sYq"
   },
   "outputs": [],
   "source": [
    "X_train = tf.convert_to_tensor(X_train, dtype=tf.int64)\n",
    "Y_train = tf.convert_to_tensor(Y_train, dtype=tf.int64)\n",
    "\n",
    "X_test = tf.convert_to_tensor(X_test, dtype=tf.int64)\n",
    "Y_test = tf.convert_to_tensor(Y_test, dtype=tf.int64)"
   ]
  },
  {
   "cell_type": "code",
   "execution_count": 34,
   "metadata": {
    "id": "PD9LT6ue1sYr"
   },
   "outputs": [],
   "source": [
    "check_path = \"training_1cp.ckpt\"\n",
    "check_dir = os.path.dirname(check_path)\n",
    "back_path = \"CallBacks\\backup\"\n",
    "back_dir = os.path.dirname(back_path)\n",
    "ten_path = \"Tensor\"\n",
    "ten_dir = os.path.dirname(ten_path)\n",
    "\n",
    "cp_callbacks = [callbacks.EarlyStopping(monitor=\"val_accuracy\", patience=4, verbose=1, restore_best_weights=True),\n",
    "               callbacks.ModelCheckpoint(monitor=\"val_accuracy\", filepath=check_path, save_best_only=True, save_weights_only=True)]\n",
    "               #callbacks.ModelCheckpoint(filepath=check_path)\n",
    "               #callbacks.BackupAndRestore(backup_dir=back_dir),\n",
    "               #callbacks.EarlyStopping(patience=20, verbose=1, restore_best_weights=True),\n",
    "               #callbacks.ReduceLROnPlateau(factor=0.2, cooldown=3, verbose=1),\n",
    "               #callbacks.TensorBoard(log_dir=\"ten_dir\", histogram_freq=10, write_images=True)]"
   ]
  },
  {
   "cell_type": "code",
   "execution_count": 35,
   "metadata": {
    "colab": {
     "base_uri": "https://localhost:8080/"
    },
    "id": "Q-A8Unph1sYr",
    "outputId": "689b71f9-6f71-44ec-eb01-b08a76fb329b",
    "scrolled": true
   },
   "outputs": [
    {
     "name": "stdout",
     "output_type": "stream",
     "text": [
      "Model: \"model\"\n",
      "_________________________________________________________________\n",
      " Layer (type)                Output Shape              Param #   \n",
      "=================================================================\n",
      " input_1 (InputLayer)        [(None, 120)]             0         \n",
      "                                                                 \n",
      " token_and_position_embeddin  (None, 120, 32)          643840    \n",
      " g (TokenAndPositionEmbeddin                                     \n",
      " g)                                                              \n",
      "                                                                 \n",
      " transformer_block (Transfor  (None, 120, 32)          10656     \n",
      " merBlock)                                                       \n",
      "                                                                 \n",
      " global_average_pooling1d (G  (None, 32)               0         \n",
      " lobalAveragePooling1D)                                          \n",
      "                                                                 \n",
      " dropout_2 (Dropout)         (None, 32)                0         \n",
      "                                                                 \n",
      " dense_2 (Dense)             (None, 20)                660       \n",
      "                                                                 \n",
      " dropout_3 (Dropout)         (None, 20)                0         \n",
      "                                                                 \n",
      " dense_3 (Dense)             (None, 1)                 21        \n",
      "                                                                 \n",
      "=================================================================\n",
      "Total params: 655,177\n",
      "Trainable params: 655,177\n",
      "Non-trainable params: 0\n",
      "_________________________________________________________________\n",
      "None\n"
     ]
    }
   ],
   "source": [
    "print(model.summary())"
   ]
  },
  {
   "cell_type": "code",
   "execution_count": 36,
   "metadata": {
    "colab": {
     "base_uri": "https://localhost:8080/",
     "height": 995
    },
    "id": "n6PK8DEyCTht",
    "outputId": "956288c4-dd6f-45d1-c539-95210c4a6781"
   },
   "outputs": [
    {
     "name": "stdout",
     "output_type": "stream",
     "text": [
      "Epoch 1/20\n",
      "5974/5974 [==============================] - 116s 19ms/step - loss: 0.4491 - accuracy: 0.7863 - precision: 0.7934 - recall: 0.7739 - f1_score: 0.7836 - val_loss: 0.4219 - val_accuracy: 0.8042 - val_precision: 0.7960 - val_recall: 0.8204 - val_f1_score: 0.8080\n",
      "Epoch 2/20\n",
      "5974/5974 [==============================] - 114s 19ms/step - loss: 0.4142 - accuracy: 0.8092 - precision: 0.8174 - recall: 0.7961 - f1_score: 0.8066 - val_loss: 0.4150 - val_accuracy: 0.8091 - val_precision: 0.8212 - val_recall: 0.7924 - val_f1_score: 0.8065\n",
      "Epoch 3/20\n",
      "5974/5974 [==============================] - 117s 20ms/step - loss: 0.4026 - accuracy: 0.8154 - precision: 0.8231 - recall: 0.8032 - f1_score: 0.8130 - val_loss: 0.4182 - val_accuracy: 0.8081 - val_precision: 0.8372 - val_recall: 0.7670 - val_f1_score: 0.8006\n",
      "Epoch 4/20\n",
      "5974/5974 [==============================] - 119s 20ms/step - loss: 0.3950 - accuracy: 0.8193 - precision: 0.8274 - recall: 0.8067 - f1_score: 0.8169 - val_loss: 0.4180 - val_accuracy: 0.8096 - val_precision: 0.8180 - val_recall: 0.7986 - val_f1_score: 0.8082\n",
      "Epoch 5/20\n",
      "5974/5974 [==============================] - 120s 20ms/step - loss: 0.3885 - accuracy: 0.8228 - precision: 0.8316 - recall: 0.8093 - f1_score: 0.8203 - val_loss: 0.4169 - val_accuracy: 0.8102 - val_precision: 0.8168 - val_recall: 0.8020 - val_f1_score: 0.8093\n",
      "Epoch 6/20\n",
      "5974/5974 [==============================] - 120s 20ms/step - loss: 0.3820 - accuracy: 0.8260 - precision: 0.8349 - recall: 0.8125 - f1_score: 0.8236 - val_loss: 0.4288 - val_accuracy: 0.8089 - val_precision: 0.8330 - val_recall: 0.7748 - val_f1_score: 0.8028\n",
      "Epoch 7/20\n",
      "5974/5974 [==============================] - 121s 20ms/step - loss: 0.3755 - accuracy: 0.8294 - precision: 0.8389 - recall: 0.8153 - f1_score: 0.8269 - val_loss: 0.4261 - val_accuracy: 0.8099 - val_precision: 0.8191 - val_recall: 0.7976 - val_f1_score: 0.8082\n",
      "Epoch 8/20\n",
      "5974/5974 [==============================] - 117s 20ms/step - loss: 0.3687 - accuracy: 0.8326 - precision: 0.8430 - recall: 0.8172 - f1_score: 0.8299 - val_loss: 0.4285 - val_accuracy: 0.8080 - val_precision: 0.8237 - val_recall: 0.7861 - val_f1_score: 0.8044\n",
      "Epoch 9/20\n",
      "5972/5974 [============================>.] - ETA: 0s - loss: 0.3622 - accuracy: 0.8363 - precision: 0.8483 - recall: 0.8187 - f1_score: 0.8333Restoring model weights from the end of the best epoch: 5.\n",
      "5974/5974 [==============================] - 114s 19ms/step - loss: 0.3622 - accuracy: 0.8363 - precision: 0.8483 - recall: 0.8188 - f1_score: 0.8333 - val_loss: 0.4451 - val_accuracy: 0.8070 - val_precision: 0.8214 - val_recall: 0.7868 - val_f1_score: 0.8037\n",
      "Epoch 9: early stopping\n",
      "Training finished !!\n"
     ]
    }
   ],
   "source": [
    "history=model.fit(X_train,Y_train,batch_size=150,epochs=20, validation_split=0.2, callbacks=[cp_callbacks])# here we are starting the training of model by feeding the training data\n",
    "print('Training finished !!')"
   ]
  },
  {
   "cell_type": "code",
   "execution_count": 37,
   "metadata": {
    "id": "xdLPut8GDGM2"
   },
   "outputs": [
    {
     "name": "stdout",
     "output_type": "stream",
     "text": [
      "15000/15000 [==============================] - 137s 9ms/step - loss: 0.4179 - accuracy: 0.8091 - precision: 0.8118 - recall: 0.8040 - f1_score: 0.8079\n"
     ]
    }
   ],
   "source": [
    "accr1 = model.evaluate(X_test,Y_test) #we are starting to test the model here"
   ]
  },
  {
   "cell_type": "code",
   "execution_count": 38,
   "metadata": {
    "id": "7tHT19KFDG9o"
   },
   "outputs": [
    {
     "name": "stdout",
     "output_type": "stream",
     "text": [
      "Test set\n",
      "  Accuracy: 80.91%\n",
      "  Loss: 0.42\n",
      "  precision: 0.81\n",
      "  recall: 0.80\n",
      "  f1_score: 0.81\n"
     ]
    }
   ],
   "source": [
    "print('Test set\\n  Accuracy: {:0.2f}%'.format(accr1[1]*100)) #the accuracy of the model on test data is given below\n",
    "print('  Loss: {:0.2f}'.format(accr1[0])) #the Loss of the model on test data is given below\n",
    "print('  precision: {:0.2f}'.format(accr1[2])) #the precision of the model on test data is given below\n",
    "print('  recall: {:0.2f}'.format(accr1[3])) #the recall of the model on test data is given below\n",
    "print('  f1_score: {:0.2f}'.format(accr1[4])) #the f1_score of the model on test data is given below"
   ]
  },
  {
   "cell_type": "code",
   "execution_count": 39,
   "metadata": {
    "id": "0aNJVSnn1sYs"
   },
   "outputs": [
    {
     "name": "stdout",
     "output_type": "stream",
     "text": [
      "dict_keys(['loss', 'accuracy', 'precision', 'recall', 'f1_score', 'val_loss', 'val_accuracy', 'val_precision', 'val_recall', 'val_f1_score'])\n"
     ]
    },
    {
     "data": {
      "image/png": "[encoded data removed]",
      "text/plain": [
       "<Figure size 432x288 with 1 Axes>"
      ]
     },
     "metadata": {
      "needs_background": "light"
     },
     "output_type": "display_data"
    },
    {
     "data": {
      "image/png": "[encoded data removed]",
      "text/plain": [
       "<Figure size 432x288 with 1 Axes>"
      ]
     },
     "metadata": {
      "needs_background": "light"
     },
     "output_type": "display_data"
    }
   ],
   "source": [
    "print(history.history.keys())\n",
    "# summarize history for accuracy\n",
    "plt.plot(history.history['accuracy'])\n",
    "plt.plot(history.history['val_accuracy'])\n",
    "plt.title('model accuracy')\n",
    "plt.ylabel('accuracy')\n",
    "plt.xlabel('epoch')\n",
    "plt.legend(['train', 'test'], loc='upper left')\n",
    "plt.show()\n",
    "# summarize history for loss\n",
    "plt.plot(history.history['loss'])\n",
    "plt.plot(history.history['val_loss'])\n",
    "plt.title('model loss')\n",
    "plt.ylabel('loss')\n",
    "plt.xlabel('epoch')\n",
    "plt.legend(['train', 'test'], loc='upper left')\n",
    "plt.show()"
   ]
  },
  {
   "cell_type": "code",
   "execution_count": null,
   "metadata": {},
   "outputs": [],
   "source": []
  }
 ],
 "metadata": {
  "accelerator": "GPU",
  "colab": {
   "name": "10_sentiment_analysis-Transformers.ipynb",
   "provenance": []
  },
  "kernelspec": {
   "display_name": "Python 3 (ipykernel)",
   "language": "python",
   "name": "python3"
  },
  "language_info": {
   "codemirror_mode": {
    "name": "ipython",
    "version": 3
   },
   "file_extension": ".py",
   "mimetype": "text/x-python",
   "name": "python",
   "nbconvert_exporter": "python",
   "pygments_lexer": "ipython3",
   "version": "3.9.7"
  }
 },
 "nbformat": 4,
 "nbformat_minor": 1
}
